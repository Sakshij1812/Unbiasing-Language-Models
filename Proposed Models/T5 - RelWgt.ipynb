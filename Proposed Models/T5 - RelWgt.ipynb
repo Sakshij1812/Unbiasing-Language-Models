{
 "cells": [
  {
   "cell_type": "code",
   "execution_count": null,
   "metadata": {
    "id": "B9WWsuoYrWHG"
   },
   "outputs": [],
   "source": [
    "!pip install --upgrade git+https://github.com/terrierteam/pyterrier_t5.git\n",
    "!pip install ir_datasets"
   ]
  },
  {
   "cell_type": "code",
   "execution_count": null,
   "metadata": {
    "colab": {
     "base_uri": "https://localhost:8080/"
    },
    "executionInfo": {
     "elapsed": 49065,
     "status": "ok",
     "timestamp": 1661524269245,
     "user": {
      "displayName": "Bread Pancakes",
      "userId": "10864194706161534989"
     },
     "user_tz": -60
    },
    "id": "oo-qOSKSrO1Z",
    "outputId": "5a04e5bf-400f-4c9c-bedf-e565af38aff0"
   },
   "outputs": [
    {
     "name": "stdout",
     "output_type": "stream",
     "text": [
      "Mounted at /content/drive\n",
      "/content/drive/MyDrive/Colab Notebooks/Dissertation/ir_datasets\n"
     ]
    }
   ],
   "source": [
    "#loading ir_datasets module\n",
    "from google.colab import drive\n",
    "import os\n",
    "\n",
    "drive.mount(\"/content/drive\", force_remount=True)\n",
    "\n",
    "os.environ['IR_DATASETS_HOME'] = \"/content/drive/MyDrive/Colab Notebooks/Dissertation/ir_datasets\"\n",
    "\n",
    "print(os.getenv('IR_DATASETS_HOME'))"
   ]
  },
  {
   "cell_type": "code",
   "execution_count": null,
   "metadata": {
    "colab": {
     "base_uri": "https://localhost:8080/"
    },
    "executionInfo": {
     "elapsed": 19081,
     "status": "ok",
     "timestamp": 1661524288309,
     "user": {
      "displayName": "Bread Pancakes",
      "userId": "10864194706161534989"
     },
     "user_tz": -60
    },
    "id": "bZ_fS3lvrJXX",
    "outputId": "d7514e71-f566-42c9-b9d6-9256c8424a31"
   },
   "outputs": [
    {
     "name": "stdout",
     "output_type": "stream",
     "text": [
      "terrier-assemblies 5.6 jar-with-dependencies not found, downloading to /root/.pyterrier...\n",
      "Done\n",
      "terrier-python-helper 0.0.6 jar not found, downloading to /root/.pyterrier...\n",
      "Done\n"
     ]
    },
    {
     "name": "stderr",
     "output_type": "stream",
     "text": [
      "PyTerrier 0.8.1 has loaded Terrier 5.6 (built by craigmacdonald on 2021-09-17 13:27)\n",
      "\n"
     ]
    }
   ],
   "source": [
    "#Importing libraries\n",
    "import ir_datasets\n",
    "import torch\n",
    "torch.cuda.empty_cache()\n",
    "from torch.nn import CrossEntropyLoss, Softmax\n",
    "import pandas as pd\n",
    "import pyterrier as pt\n",
    "if not pt.started():\n",
    "  pt.init()\n",
    "from pyterrier.measures import *\n",
    "from pyterrier_t5 import MonoT5ReRanker\n",
    "from transformers import T5ForConditionalGeneration, T5Tokenizer\n",
    "from transformers import AdamW\n",
    "from random import Random\n",
    "import itertools\n",
    "import pickle"
   ]
  },
  {
   "cell_type": "markdown",
   "metadata": {
    "id": "mIBPRZyB4KxL"
   },
   "source": [
    "##Load Dataset"
   ]
  },
  {
   "cell_type": "code",
   "execution_count": null,
   "metadata": {
    "colab": {
     "base_uri": "https://localhost:8080/",
     "height": 424
    },
    "executionInfo": {
     "elapsed": 5834,
     "status": "ok",
     "timestamp": 1661524296932,
     "user": {
      "displayName": "Bread Pancakes",
      "userId": "10864194706161534989"
     },
     "user_tz": -60
    },
    "id": "pCifZFsv4IIk",
    "outputId": "eab62cdb-b2d2-4456-d19b-803a440195e6"
   },
   "outputs": [
    {
     "data": {
      "text/html": [
       "\n",
       "  <div id=\"df-5f0ff26a-d5d8-4f9f-bfdf-1cc2f1c5d3e7\">\n",
       "    <div class=\"colab-df-container\">\n",
       "      <div>\n",
       "<style scoped>\n",
       "    .dataframe tbody tr th:only-of-type {\n",
       "        vertical-align: middle;\n",
       "    }\n",
       "\n",
       "    .dataframe tbody tr th {\n",
       "        vertical-align: top;\n",
       "    }\n",
       "\n",
       "    .dataframe thead th {\n",
       "        text-align: right;\n",
       "    }\n",
       "</style>\n",
       "<table border=\"1\" class=\"dataframe\">\n",
       "  <thead>\n",
       "    <tr style=\"text-align: right;\">\n",
       "      <th></th>\n",
       "      <th>qid</th>\n",
       "      <th>query</th>\n",
       "      <th>docno</th>\n",
       "      <th>rank</th>\n",
       "      <th>relevance</th>\n",
       "      <th>weight</th>\n",
       "    </tr>\n",
       "  </thead>\n",
       "  <tbody>\n",
       "    <tr>\n",
       "      <th>0</th>\n",
       "      <td>1</td>\n",
       "      <td>A potlatch is considered an example of</td>\n",
       "      <td>4063745-0</td>\n",
       "      <td>1.0</td>\n",
       "      <td>false</td>\n",
       "      <td>0.000000</td>\n",
       "    </tr>\n",
       "    <tr>\n",
       "      <th>1</th>\n",
       "      <td>1</td>\n",
       "      <td>A potlatch is considered an example of</td>\n",
       "      <td>4063746-0</td>\n",
       "      <td>2.0</td>\n",
       "      <td>false</td>\n",
       "      <td>0.000000</td>\n",
       "    </tr>\n",
       "    <tr>\n",
       "      <th>2</th>\n",
       "      <td>1</td>\n",
       "      <td>A potlatch is considered an example of</td>\n",
       "      <td>4063747-0</td>\n",
       "      <td>3.0</td>\n",
       "      <td>false</td>\n",
       "      <td>0.000000</td>\n",
       "    </tr>\n",
       "    <tr>\n",
       "      <th>3</th>\n",
       "      <td>1</td>\n",
       "      <td>A potlatch is considered an example of</td>\n",
       "      <td>4063748-0</td>\n",
       "      <td>4.0</td>\n",
       "      <td>false</td>\n",
       "      <td>0.000000</td>\n",
       "    </tr>\n",
       "    <tr>\n",
       "      <th>4</th>\n",
       "      <td>1</td>\n",
       "      <td>A potlatch is considered an example of</td>\n",
       "      <td>4063749-0</td>\n",
       "      <td>5.0</td>\n",
       "      <td>false</td>\n",
       "      <td>0.000000</td>\n",
       "    </tr>\n",
       "    <tr>\n",
       "      <th>...</th>\n",
       "      <td>...</td>\n",
       "      <td>...</td>\n",
       "      <td>...</td>\n",
       "      <td>...</td>\n",
       "      <td>...</td>\n",
       "      <td>...</td>\n",
       "    </tr>\n",
       "    <tr>\n",
       "      <th>6999995</th>\n",
       "      <td>864260</td>\n",
       "      <td>what is yield to worst</td>\n",
       "      <td>4221105-0</td>\n",
       "      <td>4.0</td>\n",
       "      <td>false</td>\n",
       "      <td>0.000000</td>\n",
       "    </tr>\n",
       "    <tr>\n",
       "      <th>6999996</th>\n",
       "      <td>864260</td>\n",
       "      <td>what is yield to worst</td>\n",
       "      <td>4221106-0</td>\n",
       "      <td>5.0</td>\n",
       "      <td>false</td>\n",
       "      <td>0.000000</td>\n",
       "    </tr>\n",
       "    <tr>\n",
       "      <th>6999997</th>\n",
       "      <td>864260</td>\n",
       "      <td>what is yield to worst</td>\n",
       "      <td>4221107-0</td>\n",
       "      <td>6.0</td>\n",
       "      <td>false</td>\n",
       "      <td>0.000000</td>\n",
       "    </tr>\n",
       "    <tr>\n",
       "      <th>6999998</th>\n",
       "      <td>864260</td>\n",
       "      <td>what is yield to worst</td>\n",
       "      <td>4221108-0</td>\n",
       "      <td>7.0</td>\n",
       "      <td>false</td>\n",
       "      <td>0.000000</td>\n",
       "    </tr>\n",
       "    <tr>\n",
       "      <th>6999999</th>\n",
       "      <td>864260</td>\n",
       "      <td>what is yield to worst</td>\n",
       "      <td>4221109-0</td>\n",
       "      <td>8.0</td>\n",
       "      <td>true</td>\n",
       "      <td>13.670029</td>\n",
       "    </tr>\n",
       "  </tbody>\n",
       "</table>\n",
       "<p>7000000 rows × 6 columns</p>\n",
       "</div>\n",
       "      <button class=\"colab-df-convert\" onclick=\"convertToInteractive('df-5f0ff26a-d5d8-4f9f-bfdf-1cc2f1c5d3e7')\"\n",
       "              title=\"Convert this dataframe to an interactive table.\"\n",
       "              style=\"display:none;\">\n",
       "        \n",
       "  <svg xmlns=\"http://www.w3.org/2000/svg\" height=\"24px\"viewBox=\"0 0 24 24\"\n",
       "       width=\"24px\">\n",
       "    <path d=\"M0 0h24v24H0V0z\" fill=\"none\"/>\n",
       "    <path d=\"M18.56 5.44l.94 2.06.94-2.06 2.06-.94-2.06-.94-.94-2.06-.94 2.06-2.06.94zm-11 1L8.5 8.5l.94-2.06 2.06-.94-2.06-.94L8.5 2.5l-.94 2.06-2.06.94zm10 10l.94 2.06.94-2.06 2.06-.94-2.06-.94-.94-2.06-.94 2.06-2.06.94z\"/><path d=\"M17.41 7.96l-1.37-1.37c-.4-.4-.92-.59-1.43-.59-.52 0-1.04.2-1.43.59L10.3 9.45l-7.72 7.72c-.78.78-.78 2.05 0 2.83L4 21.41c.39.39.9.59 1.41.59.51 0 1.02-.2 1.41-.59l7.78-7.78 2.81-2.81c.8-.78.8-2.07 0-2.86zM5.41 20L4 18.59l7.72-7.72 1.47 1.35L5.41 20z\"/>\n",
       "  </svg>\n",
       "      </button>\n",
       "      \n",
       "  <style>\n",
       "    .colab-df-container {\n",
       "      display:flex;\n",
       "      flex-wrap:wrap;\n",
       "      gap: 12px;\n",
       "    }\n",
       "\n",
       "    .colab-df-convert {\n",
       "      background-color: #E8F0FE;\n",
       "      border: none;\n",
       "      border-radius: 50%;\n",
       "      cursor: pointer;\n",
       "      display: none;\n",
       "      fill: #1967D2;\n",
       "      height: 32px;\n",
       "      padding: 0 0 0 0;\n",
       "      width: 32px;\n",
       "    }\n",
       "\n",
       "    .colab-df-convert:hover {\n",
       "      background-color: #E2EBFA;\n",
       "      box-shadow: 0px 1px 2px rgba(60, 64, 67, 0.3), 0px 1px 3px 1px rgba(60, 64, 67, 0.15);\n",
       "      fill: #174EA6;\n",
       "    }\n",
       "\n",
       "    [theme=dark] .colab-df-convert {\n",
       "      background-color: #3B4455;\n",
       "      fill: #D2E3FC;\n",
       "    }\n",
       "\n",
       "    [theme=dark] .colab-df-convert:hover {\n",
       "      background-color: #434B5C;\n",
       "      box-shadow: 0px 1px 3px 1px rgba(0, 0, 0, 0.15);\n",
       "      filter: drop-shadow(0px 1px 2px rgba(0, 0, 0, 0.3));\n",
       "      fill: #FFFFFF;\n",
       "    }\n",
       "  </style>\n",
       "\n",
       "      <script>\n",
       "        const buttonEl =\n",
       "          document.querySelector('#df-5f0ff26a-d5d8-4f9f-bfdf-1cc2f1c5d3e7 button.colab-df-convert');\n",
       "        buttonEl.style.display =\n",
       "          google.colab.kernel.accessAllowed ? 'block' : 'none';\n",
       "\n",
       "        async function convertToInteractive(key) {\n",
       "          const element = document.querySelector('#df-5f0ff26a-d5d8-4f9f-bfdf-1cc2f1c5d3e7');\n",
       "          const dataTable =\n",
       "            await google.colab.kernel.invokeFunction('convertToInteractive',\n",
       "                                                     [key], {});\n",
       "          if (!dataTable) return;\n",
       "\n",
       "          const docLinkHtml = 'Like what you see? Visit the ' +\n",
       "            '<a target=\"_blank\" href=https://colab.research.google.com/notebooks/data_table.ipynb>data table notebook</a>'\n",
       "            + ' to learn more about interactive tables.';\n",
       "          element.innerHTML = '';\n",
       "          dataTable['output_type'] = 'display_data';\n",
       "          await google.colab.output.renderOutput(dataTable, element);\n",
       "          const docLink = document.createElement('div');\n",
       "          docLink.innerHTML = docLinkHtml;\n",
       "          element.appendChild(docLink);\n",
       "        }\n",
       "      </script>\n",
       "    </div>\n",
       "  </div>\n",
       "  "
      ],
      "text/plain": [
       "            qid                                   query      docno  rank  \\\n",
       "0             1  A potlatch is considered an example of  4063745-0   1.0   \n",
       "1             1  A potlatch is considered an example of  4063746-0   2.0   \n",
       "2             1  A potlatch is considered an example of  4063747-0   3.0   \n",
       "3             1  A potlatch is considered an example of  4063748-0   4.0   \n",
       "4             1  A potlatch is considered an example of  4063749-0   5.0   \n",
       "...         ...                                     ...        ...   ...   \n",
       "6999995  864260                  what is yield to worst  4221105-0   4.0   \n",
       "6999996  864260                  what is yield to worst  4221106-0   5.0   \n",
       "6999997  864260                  what is yield to worst  4221107-0   6.0   \n",
       "6999998  864260                  what is yield to worst  4221108-0   7.0   \n",
       "6999999  864260                  what is yield to worst  4221109-0   8.0   \n",
       "\n",
       "        relevance     weight  \n",
       "0           false   0.000000  \n",
       "1           false   0.000000  \n",
       "2           false   0.000000  \n",
       "3           false   0.000000  \n",
       "4           false   0.000000  \n",
       "...           ...        ...  \n",
       "6999995     false   0.000000  \n",
       "6999996     false   0.000000  \n",
       "6999997     false   0.000000  \n",
       "6999998     false   0.000000  \n",
       "6999999      true  13.670029  \n",
       "\n",
       "[7000000 rows x 6 columns]"
      ]
     },
     "execution_count": 5,
     "metadata": {},
     "output_type": "execute_result"
    }
   ],
   "source": [
    "with open('/content/drive/MyDrive/Colab Notebooks/Dissertation/Training and Eval/train_data.pkl', 'rb') as handle:\n",
    "    data = pickle.load(handle)\n",
    "data"
   ]
  },
  {
   "cell_type": "markdown",
   "metadata": {
    "id": "case1inSgYmd"
   },
   "source": [
    "##Removing Class Imbalance"
   ]
  },
  {
   "cell_type": "code",
   "execution_count": null,
   "metadata": {
    "colab": {
     "base_uri": "https://localhost:8080/"
    },
    "executionInfo": {
     "elapsed": 3260,
     "status": "ok",
     "timestamp": 1661524300177,
     "user": {
      "displayName": "Bread Pancakes",
      "userId": "10864194706161534989"
     },
     "user_tz": -60
    },
    "id": "c7py3jiHTbxX",
    "outputId": "f64c7bfb-fa8b-488c-d607-f028c707d526"
   },
   "outputs": [
    {
     "name": "stdout",
     "output_type": "stream",
     "text": [
      "(458028, 6)\n"
     ]
    },
    {
     "data": {
      "text/plain": [
       "(458028, 6)"
      ]
     },
     "execution_count": 6,
     "metadata": {},
     "output_type": "execute_result"
    }
   ],
   "source": [
    "#Removing class imbalance\n",
    "\n",
    "# Total number of non-relevant doucments - 6541972\n",
    "nr = data[data['relevance'] == 'false']\n",
    "\n",
    "# Total number of relevant doucments - 458028\n",
    "r = data[data['relevance'] == 'true']\n",
    "\n",
    "#Undersampling\n",
    "n_rel = pd.DataFrame(nr.sample(frac = 0.0700137))\n",
    "rel = pd.DataFrame(r.sample(frac=1))\n",
    "\n",
    "print(n_rel.shape)\n",
    "rel.shape"
   ]
  },
  {
   "cell_type": "markdown",
   "metadata": {
    "id": "Vt-wzybQYFH_"
   },
   "source": [
    "#T5"
   ]
  },
  {
   "cell_type": "code",
   "execution_count": null,
   "metadata": {
    "id": "M-mICI_WFZDu"
   },
   "outputs": [],
   "source": [
    "#Setting batch size\n",
    "BATCH_SIZE = 16\n",
    "\n",
    "torch.manual_seed(0)\n",
    "\n",
    "_logger = ir_datasets.log.easy()\n",
    "\n",
    "OUTPUTS = ['true', 'false']\n",
    "\n",
    "#Function to send query-document pair as well as its relevance and weight to the trianing model\n",
    "def iter_train_samples():\n",
    "  while True: \n",
    "    for (nr_idx, nr_row), (r_idx, r_row) in zip(n_rel.iterrows(), rel.iterrows()):\n",
    "        yield 'Query: ' + str(r_row['query']) + ' Document: ' + str(docs.get(r_row['docno']).text), OUTPUTS[0], r_row['weight']\n",
    "        #Setting weight of non-relevant documents to 0\n",
    "        yield 'Query: ' + str(nr_row['query']) + ' Document: ' + str(docs.get(nr_row['docno']).text), OUTPUTS[1], 0\n",
    "\n",
    "\n",
    "train_iter = _logger.pbar(iter_train_samples(), desc='total train samples')\n",
    "\n",
    "\n",
    "model = T5ForConditionalGeneration.from_pretrained(\"t5-base\").cuda()\n",
    "tokenizer = T5Tokenizer.from_pretrained(\"t5-base\")\n",
    "optimizer = torch.optim.AdamW(model.parameters(), lr=5e-4)\n",
    "\n",
    "\n",
    "reranker = MonoT5ReRanker(verbose=False, batch_size=BATCH_SIZE)\n",
    "reranker.REL = tokenizer.encode(OUTPUTS[0])[0]\n",
    "reranker.NREL = tokenizer.encode(OUTPUTS[1])[0]"
   ]
  },
  {
   "cell_type": "code",
   "execution_count": null,
   "metadata": {
    "id": "sgbJA-1zZ-SO"
   },
   "outputs": [],
   "source": [
    "#Function to build validation dataset\n",
    "def build_validation_data():\n",
    "  result = []\n",
    "  #Loading TREC 2019 dataset\n",
    "  dataset = ir_datasets.load('msmarco-passage/trec-dl-2019/judged')\n",
    "  docs = dataset.docs_store()\n",
    "  queries = {q.query_id: q.text for q in dataset.queries_iter()}\n",
    "  for qrel in _logger.pbar(ir_datasets.load('msmarco-passage/trec-dl-2019/judged').scoreddocs, desc='dev data'):\n",
    "    if qrel.query_id in queries:\n",
    "      result.append([qrel.query_id, queries[qrel.query_id], qrel.doc_id, docs.get(qrel.doc_id).text])\n",
    "  return pd.DataFrame(result, columns=['qid', 'query', 'docno', 'text'])\n",
    "\n",
    "valid_data = build_validation_data()\n",
    "valid_qrels = pt.get_dataset('irds:msmarco-passage/trec-dl-2019/judged').get_qrels()"
   ]
  },
  {
   "cell_type": "code",
   "execution_count": null,
   "metadata": {
    "id": "pNb4n735Zez9"
   },
   "outputs": [],
   "source": [
    "epoch = 0\n",
    "max_ndcg = 0.\n",
    "\n",
    "while epoch!= 10:\n",
    "  with _logger.pbar_raw(desc=f'train {epoch}', total=16384 // BATCH_SIZE) as pbar:\n",
    "    model.train()\n",
    "    total_loss = 0\n",
    "    count = 0\n",
    "    for _ in range(16384 // BATCH_SIZE):\n",
    "      inp, out, weight = [], [], []\n",
    "      for i in range(BATCH_SIZE):\n",
    "        i, o, p = next(train_iter)\n",
    "        inp.append(i)\n",
    "        out.append(o)\n",
    "        weight.append(p)\n",
    "      inp_ids = tokenizer(inp, return_tensors='pt', padding=True).input_ids.cuda()\n",
    "      out_ids = tokenizer(out, return_tensors='pt', padding=True).input_ids.cuda()\n",
    "\n",
    "      # ------------------------------CUSTOM LOSS FUNCTION---------------------------------------------\n",
    "      weight_tensor=torch.mean(torch.FloatTensor(weight)).cuda()\n",
    "      #Multiplying by two to take the mean of 8 relevant documents rathen than all 16 documents\n",
    "      weight_tensor = 2*weight_tensor\n",
    "      #Using inbuilt loss function\n",
    "      loss_mean = model(input_ids=inp_ids, labels=out_ids).loss\n",
    "      #Multiplying mean of weights to the mean of loss \n",
    "      loss = (loss_mean * weight_tensor)\n",
    "      # -----------------------------------------------------------------------------------------------\n",
    "\n",
    "      loss.backward()\n",
    "      optimizer.step()\n",
    "      optimizer.zero_grad()\n",
    "      total_loss = loss.item()\n",
    "      count += 1\n",
    "      pbar.update(1)\n",
    "      pbar.set_postfix({'loss': total_loss/count})\n",
    "\n",
    "  with _logger.duration(f'valid {epoch}'):\n",
    "    reranker.model = model\n",
    "    reranker.verbose = True\n",
    "    res = reranker(valid_data)\n",
    "    reranker.verbose = False\n",
    "    metrics = {'epoch': epoch, 'loss': total_loss / count}\n",
    "    metrics.update(pt.Utils.evaluate(res, valid_qrels, metrics=[nDCG, RR(rel=2)]))\n",
    "    _logger.info(metrics)\n",
    "    with open('log.jsonl', 'at') as f:\n",
    "      f.write(json.dumps(metrics) + '\\n')\n",
    "    model.save_pretrained(f'/content/drive/MyDrive/Colab Notebooks/Dissertation/Models/relwgt-nrwgt0-{epoch}')\n",
    "    if metrics['nDCG'] > max_ndcg:\n",
    "      _logger.info('New Best nDCG')\n",
    "      max_ndcg = metrics['nDCG']\n",
    "  epoch += 1"
   ]
  }
 ],
 "metadata": {
  "accelerator": "GPU",
  "colab": {
   "collapsed_sections": [],
   "name": "T5 - RelWgt.ipynb",
   "provenance": [
    {
     "file_id": "1OgpHOFu3qzmos96q4ubFAJR4xr0fMNgs",
     "timestamp": 1661786624409
    },
    {
     "file_id": "1CZeolnFuP6SCmv_Yp6kLSwN73cwlPt6N",
     "timestamp": 1661786541324
    },
    {
     "file_id": "1CIWiTTnRhXsx6LxdfQ_4wP5xpM-RTK9-",
     "timestamp": 1661775806263
    },
    {
     "file_id": "13EqIWyHIQ62cG3ua4I5yMnAvFKKKm8Wu",
     "timestamp": 1661774040769
    },
    {
     "file_id": "17oNZpJ_Usk0CzplP5qClOXRoIK1ILZam",
     "timestamp": 1661773969530
    }
   ]
  },
  "gpuClass": "standard",
  "kernelspec": {
   "display_name": "Python 3 (ipykernel)",
   "language": "python",
   "name": "python3"
  },
  "language_info": {
   "codemirror_mode": {
    "name": "ipython",
    "version": 3
   },
   "file_extension": ".py",
   "mimetype": "text/x-python",
   "name": "python",
   "nbconvert_exporter": "python",
   "pygments_lexer": "ipython3",
   "version": "3.7.11"
  }
 },
 "nbformat": 4,
 "nbformat_minor": 1
}
